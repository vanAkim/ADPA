{
 "cells": [
  {
   "cell_type": "markdown",
   "source": [
    "# Project hypotheses\n",
    "\n",
    "## Localization\n",
    "\n",
    "Current data come from a supposedly wide audience, since Reddit is a well-known tool in the US.\n",
    "The first hypothesis states that Reddit utilisation doesn't apply a strong input filtering of the relevant population, thus biasing the dataset towards a subpopulation.\n",
    "Second hypothesis is that business context and targeted population are sufficiently similar to the dataset population, even if the location is different, such as in France where Reddit has less coverage.\n",
    "\n",
    "## Time shift\n",
    "\n",
    "Even if at current state (2022/12/26), r/RAOP rules have strong emphasis on the relative legitimacy (reddit account metadata) of applicants to avoid inappropriate requests, they cannot be taken into account here.\n",
    "Indeed, they may have evolved over time, which already adds bias to the historical data, but obviously cannot be applied retrospectively now, 9 years later.\n",
    "Nonetheless, we assume that altruism is a time constant through a wide population.\n",
    "World-wide economic situation shift over time is neglected since our business object is a vital food product, 🚀 popular, and affordable enough for many people.\n",
    "\n",
    "## Wisdom of crowds\n",
    "\n",
    "Even if we disregard the rules process, Reddit structure (comments, votes, account metadata) is assimilated to an influence soft-voting tool.\n",
    "That's why it's assumed that donation process and request legitimacy are not misplaced, and we're confident about the transfert between RAOP donation purpose and our business objective.\n",
    "So if a request led to a donation, thus the request was legitimate."
   ],
   "metadata": {
    "collapsed": false
   }
  },
  {
   "cell_type": "markdown",
   "source": [
    "# Business context\n",
    "\n",
    "## Marketing campaign\n",
    "\n",
    "I'm running a pizza restaurant at a fast-growing pace with some few localizations.\n",
    "In order to promote our upcoming additional location, we're launching a marketing campaign to donate some pizza to people who made a request.\n",
    "It can leverage some pain points:\n",
    "+ Expand our brand image\n",
    "+ Minimize unsells waste\n",
    "+ Donate to people in need\n",
    "\n",
    "Currently, our resources can't afford to have dedicated people to develop and run this kind of process. Lucky for me, I used to be a Data Scientist and r/RAOP+kaggle gives me data to work with.\n",
    "\n",
    "## Business objectives\n",
    "\n",
    "1. Train a model to predict legitimacy *(i.e. pizza donation)* of a request at the moment of request to avoid target leakage.\n",
    "2. Find a process that doesn't disapprove or lower the previous legitimacy of donation at the moment of data retrieval, if there's such a thing.\n",
    "\n",
    "## Future concerns\n",
    "\n",
    "The current depicted design doesn't leverage any concerns about legitimate requests actual donation and marketing performances.\n",
    "Indeed, legitimate requests could be all fulfilled or partially depending on our selection process, volume, donation supply chain, seasonality, cost efficiency, and many other variables.\n",
    "For now, the project focus on donation legitimacy modelisation."
   ],
   "metadata": {
    "collapsed": false
   }
  },
  {
   "cell_type": "markdown",
   "source": [
    "# Data preparation"
   ],
   "metadata": {
    "collapsed": false
   }
  },
  {
   "cell_type": "code",
   "execution_count": 1,
   "outputs": [],
   "source": [
    "import pandas as pd\n",
    "from sklearn.model_selection import train_test_split"
   ],
   "metadata": {
    "collapsed": false
   }
  },
  {
   "cell_type": "markdown",
   "source": [
    "## Load dataset"
   ],
   "metadata": {
    "collapsed": false
   }
  },
  {
   "cell_type": "code",
   "execution_count": 2,
   "outputs": [],
   "source": [
    "pizza_raw_data = pd.read_json('../data/pizza_data.json',\n",
    "                              dtype={\"giver_username_if_known\": str,\n",
    "                                        \"number_of_upvotes_of_request_at_retrieval\": int,\n",
    "                                        \"post_was_edited\": bool,\n",
    "                                        \"request_id\": str,\n",
    "                                        \"request_number_of_comments_at_retrieval\": int,\n",
    "                                        \"request_text\": str,\n",
    "                                        \"request_text_edit_aware\": str,\n",
    "                                        \"request_title\": str,\n",
    "                                        \"requester_account_age_in_days_at_request\": float,\n",
    "                                        \"requester_account_age_in_days_at_retrieval\": float,\n",
    "                                        \"requester_days_since_first_post_on_raop_at_request\": float,\n",
    "                                        \"requester_days_since_first_post_on_raop_at_retrieval\": float,\n",
    "                                        \"requester_number_of_comments_at_request\": int,\n",
    "                                        \"requester_number_of_comments_at_retrieval\": int,\n",
    "                                        \"requester_number_of_comments_in_raop_at_request\": int,\n",
    "                                        \"requester_number_of_comments_in_raop_at_retrieval\": int,\n",
    "                                        \"requester_number_of_posts_at_request\": int,\n",
    "                                        \"requester_number_of_posts_at_retrieval\": int,\n",
    "                                        \"requester_number_of_posts_on_raop_at_request\": int,\n",
    "                                        \"requester_number_of_posts_on_raop_at_retrieval\": int,\n",
    "                                        \"requester_number_of_subreddits_at_request\": int,\n",
    "                                        \"requester_received_pizza\": bool,\n",
    "                                        \"requester_subreddits_at_request\": list,\n",
    "                                        \"requester_upvotes_minus_downvotes_at_request\": int,\n",
    "                                        \"requester_upvotes_minus_downvotes_at_retrieval\": int,\n",
    "                                        \"requester_upvotes_plus_downvotes_at_request\": int,\n",
    "                                        \"requester_upvotes_plus_downvotes_at_retrieval\": int,\n",
    "                                        \"requester_user_flair\": str,\n",
    "                                        \"requester_username\": str,\n",
    "                                        \"unix_timestamp_of_request\": int,\n",
    "                                        \"unix_timestamp_of_request_utc\": int})"
   ],
   "metadata": {
    "collapsed": false
   }
  },
  {
   "cell_type": "code",
   "execution_count": 3,
   "outputs": [
    {
     "name": "stdout",
     "output_type": "stream",
     "text": [
      "<class 'pandas.core.frame.DataFrame'>\n",
      "RangeIndex: 4040 entries, 0 to 4039\n",
      "Data columns (total 32 columns):\n",
      " #   Column                                                Non-Null Count  Dtype  \n",
      "---  ------                                                --------------  -----  \n",
      " 0   giver_username_if_known                               4040 non-null   object \n",
      " 1   number_of_downvotes_of_request_at_retrieval           4040 non-null   int64  \n",
      " 2   number_of_upvotes_of_request_at_retrieval             4040 non-null   int32  \n",
      " 3   post_was_edited                                       4040 non-null   bool   \n",
      " 4   request_id                                            4040 non-null   object \n",
      " 5   request_number_of_comments_at_retrieval               4040 non-null   int32  \n",
      " 6   request_text                                          4040 non-null   object \n",
      " 7   request_text_edit_aware                               4040 non-null   object \n",
      " 8   request_title                                         4040 non-null   object \n",
      " 9   requester_account_age_in_days_at_request              4040 non-null   float64\n",
      " 10  requester_account_age_in_days_at_retrieval            4040 non-null   float64\n",
      " 11  requester_days_since_first_post_on_raop_at_request    4040 non-null   float64\n",
      " 12  requester_days_since_first_post_on_raop_at_retrieval  4040 non-null   float64\n",
      " 13  requester_number_of_comments_at_request               4040 non-null   int32  \n",
      " 14  requester_number_of_comments_at_retrieval             4040 non-null   int32  \n",
      " 15  requester_number_of_comments_in_raop_at_request       4040 non-null   int32  \n",
      " 16  requester_number_of_comments_in_raop_at_retrieval     4040 non-null   int32  \n",
      " 17  requester_number_of_posts_at_request                  4040 non-null   int32  \n",
      " 18  requester_number_of_posts_at_retrieval                4040 non-null   int32  \n",
      " 19  requester_number_of_posts_on_raop_at_request          4040 non-null   int32  \n",
      " 20  requester_number_of_posts_on_raop_at_retrieval        4040 non-null   int32  \n",
      " 21  requester_number_of_subreddits_at_request             4040 non-null   int32  \n",
      " 22  requester_received_pizza                              4040 non-null   bool   \n",
      " 23  requester_subreddits_at_request                       4040 non-null   object \n",
      " 24  requester_upvotes_minus_downvotes_at_request          4040 non-null   int32  \n",
      " 25  requester_upvotes_minus_downvotes_at_retrieval        4040 non-null   int32  \n",
      " 26  requester_upvotes_plus_downvotes_at_request           4040 non-null   int32  \n",
      " 27  requester_upvotes_plus_downvotes_at_retrieval         4040 non-null   int32  \n",
      " 28  requester_user_flair                                  4040 non-null   object \n",
      " 29  requester_username                                    4040 non-null   object \n",
      " 30  unix_timestamp_of_request                             4040 non-null   int32  \n",
      " 31  unix_timestamp_of_request_utc                         4040 non-null   int32  \n",
      "dtypes: bool(2), float64(4), int32(17), int64(1), object(8)\n",
      "memory usage: 686.6+ KB\n"
     ]
    }
   ],
   "source": [
    "pizza_raw_data.info()"
   ],
   "metadata": {
    "collapsed": false
   }
  },
  {
   "cell_type": "code",
   "execution_count": 4,
   "outputs": [
    {
     "data": {
      "text/plain": "  giver_username_if_known  number_of_downvotes_of_request_at_retrieval  \\\n0                     N/A                                            0   \n1                     N/A                                            2   \n2                     N/A                                            0   \n3                     N/A                                            0   \n4                     N/A                                            6   \n\n   number_of_upvotes_of_request_at_retrieval  post_was_edited request_id  \\\n0                                          1            False   t3_l25d7   \n1                                          5            False   t3_rcb83   \n2                                          3            False   t3_lpu5j   \n3                                          1             True   t3_mxvj3   \n4                                          6            False  t3_1i6486   \n\n   request_number_of_comments_at_retrieval  \\\n0                                        0   \n1                                        0   \n2                                        0   \n3                                        4   \n4                                        5   \n\n                                        request_text  \\\n0  Hi I am in need of food for my 4 children we a...   \n1  I spent the last money I had on gas today. Im ...   \n2  My girlfriend decided it would be a good idea ...   \n3  It's cold, I'n hungry, and to be completely ho...   \n4  hey guys:\\n I love this sub. I think it's grea...   \n\n                             request_text_edit_aware  \\\n0  Hi I am in need of food for my 4 children we a...   \n1  I spent the last money I had on gas today. Im ...   \n2  My girlfriend decided it would be a good idea ...   \n3  It's cold, I'n hungry, and to be completely ho...   \n4  hey guys:\\n I love this sub. I think it's grea...   \n\n                                       request_title  \\\n0            Request Colorado Springs Help Us Please   \n1  [Request] California, No cash and I could use ...   \n2  [Request] Hungry couple in Dundee, Scotland wo...   \n3  [Request] In Canada (Ontario), just got home f...   \n4  [Request] Old friend coming to visit. Would LO...   \n\n   requester_account_age_in_days_at_request  ...  requester_received_pizza  \\\n0                                  0.000000  ...                     False   \n1                                501.111100  ...                     False   \n2                                  0.000000  ...                     False   \n3                                  6.518438  ...                     False   \n4                                162.063252  ...                     False   \n\n                     requester_subreddits_at_request  \\\n0                                                 []   \n1  [AskReddit, Eve, IAmA, MontereyBay, RandomKind...   \n2                                                 []   \n3       [AskReddit, DJs, IAmA, Random_Acts_Of_Pizza]   \n4  [GayBrosWeightLoss, RandomActsOfCookies, Rando...   \n\n   requester_upvotes_minus_downvotes_at_request  \\\n0                                             0   \n1                                            34   \n2                                             0   \n3                                            54   \n4                                          1121   \n\n   requester_upvotes_minus_downvotes_at_retrieval  \\\n0                                               1   \n1                                            4258   \n2                                               3   \n3                                              59   \n4                                            1225   \n\n   requester_upvotes_plus_downvotes_at_request  \\\n0                                            0   \n1                                          116   \n2                                            0   \n3                                           76   \n4                                         1733   \n\n   requester_upvotes_plus_downvotes_at_retrieval  requester_user_flair  \\\n0                                              1                  None   \n1                                          11168                  None   \n2                                              3                  None   \n3                                             81                  None   \n4                                           1887                  None   \n\n   requester_username  unix_timestamp_of_request  \\\n0           nickylvst                 1317852607   \n1           fohacidal                 1332652424   \n2       jacquibatman7                 1319650094   \n3       4on_the_floor                 1322855434   \n4     Futuredogwalker                 1373657691   \n\n   unix_timestamp_of_request_utc  \n0                     1317849007  \n1                     1332648824  \n2                     1319646494  \n3                     1322855434  \n4                     1373654091  \n\n[5 rows x 32 columns]",
      "text/html": "<div>\n<style scoped>\n    .dataframe tbody tr th:only-of-type {\n        vertical-align: middle;\n    }\n\n    .dataframe tbody tr th {\n        vertical-align: top;\n    }\n\n    .dataframe thead th {\n        text-align: right;\n    }\n</style>\n<table border=\"1\" class=\"dataframe\">\n  <thead>\n    <tr style=\"text-align: right;\">\n      <th></th>\n      <th>giver_username_if_known</th>\n      <th>number_of_downvotes_of_request_at_retrieval</th>\n      <th>number_of_upvotes_of_request_at_retrieval</th>\n      <th>post_was_edited</th>\n      <th>request_id</th>\n      <th>request_number_of_comments_at_retrieval</th>\n      <th>request_text</th>\n      <th>request_text_edit_aware</th>\n      <th>request_title</th>\n      <th>requester_account_age_in_days_at_request</th>\n      <th>...</th>\n      <th>requester_received_pizza</th>\n      <th>requester_subreddits_at_request</th>\n      <th>requester_upvotes_minus_downvotes_at_request</th>\n      <th>requester_upvotes_minus_downvotes_at_retrieval</th>\n      <th>requester_upvotes_plus_downvotes_at_request</th>\n      <th>requester_upvotes_plus_downvotes_at_retrieval</th>\n      <th>requester_user_flair</th>\n      <th>requester_username</th>\n      <th>unix_timestamp_of_request</th>\n      <th>unix_timestamp_of_request_utc</th>\n    </tr>\n  </thead>\n  <tbody>\n    <tr>\n      <th>0</th>\n      <td>N/A</td>\n      <td>0</td>\n      <td>1</td>\n      <td>False</td>\n      <td>t3_l25d7</td>\n      <td>0</td>\n      <td>Hi I am in need of food for my 4 children we a...</td>\n      <td>Hi I am in need of food for my 4 children we a...</td>\n      <td>Request Colorado Springs Help Us Please</td>\n      <td>0.000000</td>\n      <td>...</td>\n      <td>False</td>\n      <td>[]</td>\n      <td>0</td>\n      <td>1</td>\n      <td>0</td>\n      <td>1</td>\n      <td>None</td>\n      <td>nickylvst</td>\n      <td>1317852607</td>\n      <td>1317849007</td>\n    </tr>\n    <tr>\n      <th>1</th>\n      <td>N/A</td>\n      <td>2</td>\n      <td>5</td>\n      <td>False</td>\n      <td>t3_rcb83</td>\n      <td>0</td>\n      <td>I spent the last money I had on gas today. Im ...</td>\n      <td>I spent the last money I had on gas today. Im ...</td>\n      <td>[Request] California, No cash and I could use ...</td>\n      <td>501.111100</td>\n      <td>...</td>\n      <td>False</td>\n      <td>[AskReddit, Eve, IAmA, MontereyBay, RandomKind...</td>\n      <td>34</td>\n      <td>4258</td>\n      <td>116</td>\n      <td>11168</td>\n      <td>None</td>\n      <td>fohacidal</td>\n      <td>1332652424</td>\n      <td>1332648824</td>\n    </tr>\n    <tr>\n      <th>2</th>\n      <td>N/A</td>\n      <td>0</td>\n      <td>3</td>\n      <td>False</td>\n      <td>t3_lpu5j</td>\n      <td>0</td>\n      <td>My girlfriend decided it would be a good idea ...</td>\n      <td>My girlfriend decided it would be a good idea ...</td>\n      <td>[Request] Hungry couple in Dundee, Scotland wo...</td>\n      <td>0.000000</td>\n      <td>...</td>\n      <td>False</td>\n      <td>[]</td>\n      <td>0</td>\n      <td>3</td>\n      <td>0</td>\n      <td>3</td>\n      <td>None</td>\n      <td>jacquibatman7</td>\n      <td>1319650094</td>\n      <td>1319646494</td>\n    </tr>\n    <tr>\n      <th>3</th>\n      <td>N/A</td>\n      <td>0</td>\n      <td>1</td>\n      <td>True</td>\n      <td>t3_mxvj3</td>\n      <td>4</td>\n      <td>It's cold, I'n hungry, and to be completely ho...</td>\n      <td>It's cold, I'n hungry, and to be completely ho...</td>\n      <td>[Request] In Canada (Ontario), just got home f...</td>\n      <td>6.518438</td>\n      <td>...</td>\n      <td>False</td>\n      <td>[AskReddit, DJs, IAmA, Random_Acts_Of_Pizza]</td>\n      <td>54</td>\n      <td>59</td>\n      <td>76</td>\n      <td>81</td>\n      <td>None</td>\n      <td>4on_the_floor</td>\n      <td>1322855434</td>\n      <td>1322855434</td>\n    </tr>\n    <tr>\n      <th>4</th>\n      <td>N/A</td>\n      <td>6</td>\n      <td>6</td>\n      <td>False</td>\n      <td>t3_1i6486</td>\n      <td>5</td>\n      <td>hey guys:\\n I love this sub. I think it's grea...</td>\n      <td>hey guys:\\n I love this sub. I think it's grea...</td>\n      <td>[Request] Old friend coming to visit. Would LO...</td>\n      <td>162.063252</td>\n      <td>...</td>\n      <td>False</td>\n      <td>[GayBrosWeightLoss, RandomActsOfCookies, Rando...</td>\n      <td>1121</td>\n      <td>1225</td>\n      <td>1733</td>\n      <td>1887</td>\n      <td>None</td>\n      <td>Futuredogwalker</td>\n      <td>1373657691</td>\n      <td>1373654091</td>\n    </tr>\n  </tbody>\n</table>\n<p>5 rows × 32 columns</p>\n</div>"
     },
     "execution_count": 4,
     "metadata": {},
     "output_type": "execute_result"
    }
   ],
   "source": [
    "pizza_raw_data.head()"
   ],
   "metadata": {
    "collapsed": false
   }
  },
  {
   "cell_type": "markdown",
   "source": [
    "## Data leakage prevention\n",
    "\n",
    "Some features may lead to data leakage.\n",
    "One is directly linked to pizza donation, `giver_username_if_known`.\n",
    "Others may be since they aren't concerned about at_request/at_retrieval split-up, such as `requester_user_flair` *(requester badge obtention after receiving a pizza donation)*, `request_text` and `post_was_edited` *(some request posts are edited after getting a pizza donation)*.\n",
    "So, these features are removed from our project."
   ],
   "metadata": {
    "collapsed": false
   }
  },
  {
   "cell_type": "code",
   "execution_count": 14,
   "outputs": [],
   "source": [
    "pizza_prevented_data = pizza_raw_data.loc[:, ~(pizza_raw_data\n",
    "                                               .columns\n",
    "                                               .isin([\"giver_username_if_known\",\n",
    "                                                      \"requester_user_flair\",\n",
    "                                                      \"request_text\",\n",
    "                                                      \"post_was_edited\"]))\n",
    "                       ]"
   ],
   "metadata": {
    "collapsed": false
   }
  },
  {
   "cell_type": "markdown",
   "source": [
    "## Split training data"
   ],
   "metadata": {
    "collapsed": false
   }
  },
  {
   "cell_type": "code",
   "execution_count": 15,
   "outputs": [],
   "source": [
    "target_name = 'requester_received_pizza'\n",
    "seed = 101\n",
    "X = pizza_prevented_data.copy()\n",
    "y = X.pop(target_name)\n",
    "X_train, X_test, y_train, y_test = train_test_split(X, y, test_size=0.2, random_state=seed, stratify=y)"
   ],
   "metadata": {
    "collapsed": false
   }
  },
  {
   "cell_type": "code",
   "execution_count": 16,
   "outputs": [
    {
     "name": "stdout",
     "output_type": "stream",
     "text": [
      "From our 4040 samples, we'll use 3232 of them to train the model.\n"
     ]
    }
   ],
   "source": [
    "print(f\"From our {pizza_raw_data.shape[0]} samples, we'll use {X_train.shape[0]} of them to train the model.\")"
   ],
   "metadata": {
    "collapsed": false
   }
  },
  {
   "cell_type": "code",
   "execution_count": 17,
   "outputs": [
    {
     "data": {
      "text/plain": "        number_of_downvotes_of_request_at_retrieval  \\\ncount                                   3232.000000   \nunique                                          NaN   \ntop                                             NaN   \nfreq                                            NaN   \nmean                                       2.413366   \nstd                                        3.009515   \nmin                                        0.000000   \n25%                                        1.000000   \n50%                                        2.000000   \n75%                                        3.000000   \nmax                                       47.000000   \n\n        number_of_upvotes_of_request_at_retrieval request_id  \\\ncount                                 3232.000000       3232   \nunique                                        NaN       3232   \ntop                                           NaN   t3_m9dxg   \nfreq                                          NaN          1   \nmean                                     5.977413        NaN   \nstd                                      8.710719        NaN   \nmin                                      0.000000        NaN   \n25%                                      2.000000        NaN   \n50%                                      4.000000        NaN   \n75%                                      7.000000        NaN   \nmax                                    276.000000        NaN   \n\n        request_number_of_comments_at_retrieval request_text_edit_aware  \\\ncount                               3232.000000                    3232   \nunique                                      NaN                    3148   \ntop                                         NaN                           \nfreq                                        NaN                      81   \nmean                                   2.853032                     NaN   \nstd                                    4.677570                     NaN   \nmin                                    0.000000                     NaN   \n25%                                    0.000000                     NaN   \n50%                                    1.000000                     NaN   \n75%                                    4.000000                     NaN   \nmax                                   61.000000                     NaN   \n\n       request_title  requester_account_age_in_days_at_request  \\\ncount           3232                               3232.000000   \nunique          3224                                       NaN   \ntop        [REQUEST]                                       NaN   \nfreq               4                                       NaN   \nmean             NaN                                250.563901   \nstd              NaN                                296.577877   \nmin              NaN                                  0.000000   \n25%              NaN                                  3.637118   \n50%              NaN                                157.067170   \n75%              NaN                                385.619852   \nmax              NaN                               2521.263206   \n\n        requester_account_age_in_days_at_retrieval  \\\ncount                                  3232.000000   \nunique                                         NaN   \ntop                                            NaN   \nfreq                                           NaN   \nmean                                    755.241885   \nstd                                     328.500959   \nmin                                      45.291562   \n25%                                     519.489132   \n50%                                     753.834248   \n75%                                     897.417031   \nmax                                    2733.297060   \n\n        requester_days_since_first_post_on_raop_at_request  \\\ncount                                         3232.000000    \nunique                                                NaN    \ntop                                                   NaN    \nfreq                                                  NaN    \nmean                                            16.177954    \nstd                                             68.784004    \nmin                                              0.000000    \n25%                                              0.000000    \n50%                                              0.000000    \n75%                                              0.000000    \nmax                                            785.457685    \n\n        requester_days_since_first_post_on_raop_at_retrieval  ...  \\\ncount                                         3232.000000     ...   \nunique                                                NaN     ...   \ntop                                                   NaN     ...   \nfreq                                                  NaN     ...   \nmean                                           520.436075     ...   \nstd                                            267.561070     ...   \nmin                                              0.000000     ...   \n25%                                            284.515923     ...   \n50%                                            529.845451     ...   \n75%                                            778.395281     ...   \nmax                                           1025.407593     ...   \n\n        requester_number_of_posts_on_raop_at_retrieval  \\\ncount                                      3232.000000   \nunique                                             NaN   \ntop                                                NaN   \nfreq                                               NaN   \nmean                                          1.246287   \nstd                                           0.619990   \nmin                                           0.000000   \n25%                                           1.000000   \n50%                                           1.000000   \n75%                                           1.000000   \nmax                                           9.000000   \n\n        requester_number_of_subreddits_at_request  \\\ncount                                 3232.000000   \nunique                                        NaN   \ntop                                           NaN   \nfreq                                          NaN   \nmean                                    18.022587   \nstd                                     21.701225   \nmin                                      0.000000   \n25%                                      1.000000   \n50%                                     11.000000   \n75%                                     27.000000   \nmax                                    186.000000   \n\n        requester_subreddits_at_request  \\\ncount                              3232   \nunique                             2399   \ntop                                  []   \nfreq                                585   \nmean                                NaN   \nstd                                 NaN   \nmin                                 NaN   \n25%                                 NaN   \n50%                                 NaN   \n75%                                 NaN   \nmax                                 NaN   \n\n        requester_upvotes_minus_downvotes_at_request  \\\ncount                                    3232.000000   \nunique                                           NaN   \ntop                                              NaN   \nfreq                                             NaN   \nmean                                     1144.773205   \nstd                                      3712.847322   \nmin                                      -173.000000   \n25%                                         3.000000   \n50%                                       177.000000   \n75%                                      1154.000000   \nmax                                    155010.000000   \n\n        requester_upvotes_minus_downvotes_at_retrieval  \\\ncount                                      3232.000000   \nunique                                             NaN   \ntop                                                NaN   \nfreq                                               NaN   \nmean                                       2682.154394   \nstd                                        6341.838215   \nmin                                        -173.000000   \n25%                                          21.000000   \n50%                                         692.500000   \n75%                                        3280.000000   \nmax                                      223708.000000   \n\n        requester_upvotes_plus_downvotes_at_request  \\\ncount                                  3.232000e+03   \nunique                                          NaN   \ntop                                             NaN   \nfreq                                            NaN   \nmean                                   3.636832e+03   \nstd                                    2.501816e+04   \nmin                                    0.000000e+00   \n25%                                    9.000000e+00   \n50%                                    3.540000e+02   \n75%                                    2.287750e+03   \nmax                                    1.286864e+06   \n\n        requester_upvotes_plus_downvotes_at_retrieval  requester_username  \\\ncount                                    3.232000e+03                3232   \nunique                                            NaN                3232   \ntop                                               NaN        mindfragment   \nfreq                                              NaN                   1   \nmean                                     7.584899e+03                 NaN   \nstd                                      4.013750e+04                 NaN   \nmin                                      0.000000e+00                 NaN   \n25%                                      5.000000e+01                 NaN   \n50%                                      1.278500e+03                 NaN   \n75%                                      6.782750e+03                 NaN   \nmax                                      2.046482e+06                 NaN   \n\n        unix_timestamp_of_request unix_timestamp_of_request_utc  \ncount                3.232000e+03                  3.232000e+03  \nunique                        NaN                           NaN  \ntop                           NaN                           NaN  \nfreq                          NaN                           NaN  \nmean                 1.342695e+09                  1.342692e+09  \nstd                  2.330023e+07                  2.329957e+07  \nmin                  1.297723e+09                  1.297723e+09  \n25%                  1.320192e+09                  1.320189e+09  \n50%                  1.342565e+09                  1.342561e+09  \n75%                  1.364039e+09                  1.364035e+09  \nmax                  1.381552e+09                  1.381523e+09  \n\n[11 rows x 27 columns]",
      "text/html": "<div>\n<style scoped>\n    .dataframe tbody tr th:only-of-type {\n        vertical-align: middle;\n    }\n\n    .dataframe tbody tr th {\n        vertical-align: top;\n    }\n\n    .dataframe thead th {\n        text-align: right;\n    }\n</style>\n<table border=\"1\" class=\"dataframe\">\n  <thead>\n    <tr style=\"text-align: right;\">\n      <th></th>\n      <th>number_of_downvotes_of_request_at_retrieval</th>\n      <th>number_of_upvotes_of_request_at_retrieval</th>\n      <th>request_id</th>\n      <th>request_number_of_comments_at_retrieval</th>\n      <th>request_text_edit_aware</th>\n      <th>request_title</th>\n      <th>requester_account_age_in_days_at_request</th>\n      <th>requester_account_age_in_days_at_retrieval</th>\n      <th>requester_days_since_first_post_on_raop_at_request</th>\n      <th>requester_days_since_first_post_on_raop_at_retrieval</th>\n      <th>...</th>\n      <th>requester_number_of_posts_on_raop_at_retrieval</th>\n      <th>requester_number_of_subreddits_at_request</th>\n      <th>requester_subreddits_at_request</th>\n      <th>requester_upvotes_minus_downvotes_at_request</th>\n      <th>requester_upvotes_minus_downvotes_at_retrieval</th>\n      <th>requester_upvotes_plus_downvotes_at_request</th>\n      <th>requester_upvotes_plus_downvotes_at_retrieval</th>\n      <th>requester_username</th>\n      <th>unix_timestamp_of_request</th>\n      <th>unix_timestamp_of_request_utc</th>\n    </tr>\n  </thead>\n  <tbody>\n    <tr>\n      <th>count</th>\n      <td>3232.000000</td>\n      <td>3232.000000</td>\n      <td>3232</td>\n      <td>3232.000000</td>\n      <td>3232</td>\n      <td>3232</td>\n      <td>3232.000000</td>\n      <td>3232.000000</td>\n      <td>3232.000000</td>\n      <td>3232.000000</td>\n      <td>...</td>\n      <td>3232.000000</td>\n      <td>3232.000000</td>\n      <td>3232</td>\n      <td>3232.000000</td>\n      <td>3232.000000</td>\n      <td>3.232000e+03</td>\n      <td>3.232000e+03</td>\n      <td>3232</td>\n      <td>3.232000e+03</td>\n      <td>3.232000e+03</td>\n    </tr>\n    <tr>\n      <th>unique</th>\n      <td>NaN</td>\n      <td>NaN</td>\n      <td>3232</td>\n      <td>NaN</td>\n      <td>3148</td>\n      <td>3224</td>\n      <td>NaN</td>\n      <td>NaN</td>\n      <td>NaN</td>\n      <td>NaN</td>\n      <td>...</td>\n      <td>NaN</td>\n      <td>NaN</td>\n      <td>2399</td>\n      <td>NaN</td>\n      <td>NaN</td>\n      <td>NaN</td>\n      <td>NaN</td>\n      <td>3232</td>\n      <td>NaN</td>\n      <td>NaN</td>\n    </tr>\n    <tr>\n      <th>top</th>\n      <td>NaN</td>\n      <td>NaN</td>\n      <td>t3_m9dxg</td>\n      <td>NaN</td>\n      <td></td>\n      <td>[REQUEST]</td>\n      <td>NaN</td>\n      <td>NaN</td>\n      <td>NaN</td>\n      <td>NaN</td>\n      <td>...</td>\n      <td>NaN</td>\n      <td>NaN</td>\n      <td>[]</td>\n      <td>NaN</td>\n      <td>NaN</td>\n      <td>NaN</td>\n      <td>NaN</td>\n      <td>mindfragment</td>\n      <td>NaN</td>\n      <td>NaN</td>\n    </tr>\n    <tr>\n      <th>freq</th>\n      <td>NaN</td>\n      <td>NaN</td>\n      <td>1</td>\n      <td>NaN</td>\n      <td>81</td>\n      <td>4</td>\n      <td>NaN</td>\n      <td>NaN</td>\n      <td>NaN</td>\n      <td>NaN</td>\n      <td>...</td>\n      <td>NaN</td>\n      <td>NaN</td>\n      <td>585</td>\n      <td>NaN</td>\n      <td>NaN</td>\n      <td>NaN</td>\n      <td>NaN</td>\n      <td>1</td>\n      <td>NaN</td>\n      <td>NaN</td>\n    </tr>\n    <tr>\n      <th>mean</th>\n      <td>2.413366</td>\n      <td>5.977413</td>\n      <td>NaN</td>\n      <td>2.853032</td>\n      <td>NaN</td>\n      <td>NaN</td>\n      <td>250.563901</td>\n      <td>755.241885</td>\n      <td>16.177954</td>\n      <td>520.436075</td>\n      <td>...</td>\n      <td>1.246287</td>\n      <td>18.022587</td>\n      <td>NaN</td>\n      <td>1144.773205</td>\n      <td>2682.154394</td>\n      <td>3.636832e+03</td>\n      <td>7.584899e+03</td>\n      <td>NaN</td>\n      <td>1.342695e+09</td>\n      <td>1.342692e+09</td>\n    </tr>\n    <tr>\n      <th>std</th>\n      <td>3.009515</td>\n      <td>8.710719</td>\n      <td>NaN</td>\n      <td>4.677570</td>\n      <td>NaN</td>\n      <td>NaN</td>\n      <td>296.577877</td>\n      <td>328.500959</td>\n      <td>68.784004</td>\n      <td>267.561070</td>\n      <td>...</td>\n      <td>0.619990</td>\n      <td>21.701225</td>\n      <td>NaN</td>\n      <td>3712.847322</td>\n      <td>6341.838215</td>\n      <td>2.501816e+04</td>\n      <td>4.013750e+04</td>\n      <td>NaN</td>\n      <td>2.330023e+07</td>\n      <td>2.329957e+07</td>\n    </tr>\n    <tr>\n      <th>min</th>\n      <td>0.000000</td>\n      <td>0.000000</td>\n      <td>NaN</td>\n      <td>0.000000</td>\n      <td>NaN</td>\n      <td>NaN</td>\n      <td>0.000000</td>\n      <td>45.291562</td>\n      <td>0.000000</td>\n      <td>0.000000</td>\n      <td>...</td>\n      <td>0.000000</td>\n      <td>0.000000</td>\n      <td>NaN</td>\n      <td>-173.000000</td>\n      <td>-173.000000</td>\n      <td>0.000000e+00</td>\n      <td>0.000000e+00</td>\n      <td>NaN</td>\n      <td>1.297723e+09</td>\n      <td>1.297723e+09</td>\n    </tr>\n    <tr>\n      <th>25%</th>\n      <td>1.000000</td>\n      <td>2.000000</td>\n      <td>NaN</td>\n      <td>0.000000</td>\n      <td>NaN</td>\n      <td>NaN</td>\n      <td>3.637118</td>\n      <td>519.489132</td>\n      <td>0.000000</td>\n      <td>284.515923</td>\n      <td>...</td>\n      <td>1.000000</td>\n      <td>1.000000</td>\n      <td>NaN</td>\n      <td>3.000000</td>\n      <td>21.000000</td>\n      <td>9.000000e+00</td>\n      <td>5.000000e+01</td>\n      <td>NaN</td>\n      <td>1.320192e+09</td>\n      <td>1.320189e+09</td>\n    </tr>\n    <tr>\n      <th>50%</th>\n      <td>2.000000</td>\n      <td>4.000000</td>\n      <td>NaN</td>\n      <td>1.000000</td>\n      <td>NaN</td>\n      <td>NaN</td>\n      <td>157.067170</td>\n      <td>753.834248</td>\n      <td>0.000000</td>\n      <td>529.845451</td>\n      <td>...</td>\n      <td>1.000000</td>\n      <td>11.000000</td>\n      <td>NaN</td>\n      <td>177.000000</td>\n      <td>692.500000</td>\n      <td>3.540000e+02</td>\n      <td>1.278500e+03</td>\n      <td>NaN</td>\n      <td>1.342565e+09</td>\n      <td>1.342561e+09</td>\n    </tr>\n    <tr>\n      <th>75%</th>\n      <td>3.000000</td>\n      <td>7.000000</td>\n      <td>NaN</td>\n      <td>4.000000</td>\n      <td>NaN</td>\n      <td>NaN</td>\n      <td>385.619852</td>\n      <td>897.417031</td>\n      <td>0.000000</td>\n      <td>778.395281</td>\n      <td>...</td>\n      <td>1.000000</td>\n      <td>27.000000</td>\n      <td>NaN</td>\n      <td>1154.000000</td>\n      <td>3280.000000</td>\n      <td>2.287750e+03</td>\n      <td>6.782750e+03</td>\n      <td>NaN</td>\n      <td>1.364039e+09</td>\n      <td>1.364035e+09</td>\n    </tr>\n    <tr>\n      <th>max</th>\n      <td>47.000000</td>\n      <td>276.000000</td>\n      <td>NaN</td>\n      <td>61.000000</td>\n      <td>NaN</td>\n      <td>NaN</td>\n      <td>2521.263206</td>\n      <td>2733.297060</td>\n      <td>785.457685</td>\n      <td>1025.407593</td>\n      <td>...</td>\n      <td>9.000000</td>\n      <td>186.000000</td>\n      <td>NaN</td>\n      <td>155010.000000</td>\n      <td>223708.000000</td>\n      <td>1.286864e+06</td>\n      <td>2.046482e+06</td>\n      <td>NaN</td>\n      <td>1.381552e+09</td>\n      <td>1.381523e+09</td>\n    </tr>\n  </tbody>\n</table>\n<p>11 rows × 27 columns</p>\n</div>"
     },
     "execution_count": 17,
     "metadata": {},
     "output_type": "execute_result"
    }
   ],
   "source": [
    "X_train.describe(include=\"all\")"
   ],
   "metadata": {
    "collapsed": false
   }
  },
  {
   "cell_type": "code",
   "execution_count": 18,
   "outputs": [
    {
     "data": {
      "text/plain": "count      3232\nunique        2\ntop       False\nfreq       2437\nName: requester_received_pizza, dtype: object"
     },
     "execution_count": 18,
     "metadata": {},
     "output_type": "execute_result"
    }
   ],
   "source": [
    "y_train.describe()"
   ],
   "metadata": {
    "collapsed": false
   }
  },
  {
   "cell_type": "markdown",
   "source": [
    "## Dissociate features at request from at retrieval\n",
    "\n",
    "In order to avoid data leakage, for example a request that had a donation could have a posteriori some upvotes boost, for our first objective to model legitimacy of a request, only features at request time are accounted."
   ],
   "metadata": {
    "collapsed": false
   }
  },
  {
   "cell_type": "code",
   "execution_count": 22,
   "outputs": [],
   "source": [
    "univariate_features = [\"request_id\",\n",
    "                       \"requester_username\",\n",
    "                       \"unix_timestamp_of_request_utc\",\n",
    "                       \"request_title\",\n",
    "                       \"request_text_edit_aware\"]\n",
    "\n",
    "at_request_features = []\n",
    "at_retrieval_features = []\n",
    "\n",
    "for selected_time, selected_features in {\"request\": at_request_features, \"retrieval\": at_retrieval_features}.items():\n",
    "    dataset_features = (X_train\n",
    "                        .filter(regex=f'.*{selected_time}$')\n",
    "                        .columns\n",
    "                        .tolist())\n",
    "    selected_features.extend(dataset_features)"
   ],
   "metadata": {
    "collapsed": false
   }
  },
  {
   "cell_type": "code",
   "execution_count": 23,
   "outputs": [
    {
     "name": "stderr",
     "output_type": "stream",
     "text": [
      "C:\\Users\\Akim van Eersel\\AppData\\Local\\Temp\\ipykernel_12464\\3138177630.py:1: FutureWarning: Passing a set as an indexer is deprecated and will raise in a future version. Use a list instead.\n",
      "  X_train = X_train[set(univariate_features + at_request_features)]\n"
     ]
    }
   ],
   "source": [
    "X_train = X_train[set(univariate_features + at_request_features)]\n",
    "#pizza_retrieval_data = X_train[set(univariate_features + at_retrieval_features)]"
   ],
   "metadata": {
    "collapsed": false
   }
  },
  {
   "cell_type": "markdown",
   "source": [
    "# Data exploration\n",
    "## Let's start first with non-textual data\n",
    "\n",
    "In order to have ground level refrence, let's start with a very basic modelisation with underperforming results."
   ],
   "metadata": {
    "collapsed": false
   }
  },
  {
   "cell_type": "code",
   "execution_count": 24,
   "outputs": [
    {
     "data": {
      "text/plain": "requester_days_since_first_post_on_raop_at_request    0.113513\nrequester_account_age_in_days_at_request              0.046025\nrequester_number_of_posts_at_request                  0.008033\nrequester_upvotes_minus_downvotes_at_request          0.032900\nrequester_upvotes_plus_downvotes_at_request           0.032593\nrequester_number_of_comments_at_request               0.022811\nrequester_number_of_posts_on_raop_at_request          0.145767\nunix_timestamp_of_request                            -0.109959\nunix_timestamp_of_request_utc                        -0.109957\nrequester_number_of_subreddits_at_request             0.024470\nrequester_number_of_comments_in_raop_at_request       0.136583\ndtype: float64"
     },
     "execution_count": 24,
     "metadata": {},
     "output_type": "execute_result"
    }
   ],
   "source": [
    "X_train.select_dtypes(exclude=[\"object\"]).corrwith(y_train)"
   ],
   "metadata": {
    "collapsed": false
   }
  }
 ],
 "metadata": {
  "kernelspec": {
   "display_name": "Python 3",
   "language": "python",
   "name": "python3"
  },
  "language_info": {
   "codemirror_mode": {
    "name": "ipython",
    "version": 2
   },
   "file_extension": ".py",
   "mimetype": "text/x-python",
   "name": "python",
   "nbconvert_exporter": "python",
   "pygments_lexer": "ipython2",
   "version": "2.7.6"
  }
 },
 "nbformat": 4,
 "nbformat_minor": 0
}
